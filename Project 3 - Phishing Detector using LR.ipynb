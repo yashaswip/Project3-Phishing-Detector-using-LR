{
 "cells": [
  {
   "cell_type": "markdown",
   "id": "fd0c2caf",
   "metadata": {},
   "source": [
    "Project Report: Binary Classification Model for Phishing Website Detection\n",
    "\n",
    "1. Introduction\n",
    "\n",
    "The objective of this project is to build a binary classification model using Python Scikit-Learn to identify phishing websites. The dataset contains various website parameters, and the goal is to predict whether a website is phishing or not.\n",
    "\n",
    "2. Dataset Overview\n",
    "\n",
    "1.Dataset Size: 11055 rows x 31 columns\n",
    "2.Features: Various website parameters (e.g., UsingIP, LongURL, ShortURL, etc.)\n",
    "3.Target Variable: 'class' (Phishing or not, labeled as -1 or 1)\n",
    "\n",
    "3. Project Initiation\n",
    "\n",
    "1.Created a new Jupyter notebook.\n",
    "2.Loaded the dataset into the notebook.\n",
    "\n",
    "\n"
   ]
  },
  {
   "cell_type": "markdown",
   "id": "bc0a3430",
   "metadata": {},
   "source": [
    "## Exercise 1: Logistic Regression Model"
   ]
  },
  {
   "cell_type": "code",
   "execution_count": 15,
   "id": "159118ae",
   "metadata": {},
   "outputs": [
    {
     "name": "stdout",
     "output_type": "stream",
     "text": [
      "Accuracy score of the model: 0.9219173952366596\n",
      "Count of misclassified samples: 259\n"
     ]
    }
   ],
   "source": [
    "import pandas as pd\n",
    "from sklearn.model_selection import train_test_split\n",
    "from sklearn.linear_model import LogisticRegression\n",
    "from sklearn.metrics import accuracy_score\n",
    "\n",
    "# Assuming the dataset is named 'phishing_dataset.txt'\n",
    "header_list = ['UsingIP', 'LongURL', 'ShortURL', 'Symbol@', 'Redirecting//',\n",
    "               'PrefixSuffix-', 'SubDomains', 'HTTPS', 'DomainRegLen', 'Favicon',\n",
    "               'NonStdPort', 'HTTPSDomainURL', 'RequestURL', 'AnchorURL',\n",
    "               'LinksInScriptTags', 'ServerFormHandler', 'InfoEmail', 'AbnormalURL',\n",
    "               'WebsiteForwarding', 'StatusBarCust', 'DisableRightClick',\n",
    "               'UsingPopupWindow', 'IframeRedirection', 'AgeofDomain',\n",
    "               'DNSRecording', 'WebsiteTraffic', 'PageRank', 'GoogleIndex',\n",
    "               'LinksPointingToPage', 'StatsReport', 'class']\n",
    "\n",
    "# Load the dataset into a DataFrame\n",
    "# Adjust the file path accordingly\n",
    "df = pd.read_csv('/Users/yashaswipatki/Downloads/phishing.txt', header=None, names=header_list)\n",
    "\n",
    "# Split the data into training and testing sets\n",
    "X = df.drop('class', axis=1)\n",
    "y = df['class']\n",
    "\n",
    "# Split the data into 70% training and 30% testing\n",
    "X_train, X_test, y_train, y_test = train_test_split(X, y, test_size=0.3, random_state=42)\n",
    "\n",
    "# Build the logistic regression model with C=100\n",
    "model = LogisticRegression(C=100, random_state=42)\n",
    "model.fit(X_train, y_train)\n",
    "\n",
    "\n",
    "# Predict on the test data\n",
    "y_pred = model.predict(X_test)\n",
    "\n",
    "# Calculate accuracy\n",
    "accuracy = accuracy_score(y_test, y_pred)\n",
    "\n",
    "# Calculate count of misclassified samples\n",
    "misclassified_samples = (y_test != y_pred).sum()\n",
    "\n",
    "# Print the accuracy\n",
    "print(f\"Accuracy score of the model: {accuracy}\")\n",
    "print(f\"Count of misclassified samples: {misclassified_samples}\")\n"
   ]
  },
  {
   "cell_type": "markdown",
   "id": "8ef24e3e",
   "metadata": {},
   "source": [
    "# Exercise 2: Two-Feature Model"
   ]
  },
  {
   "cell_type": "code",
   "execution_count": 18,
   "id": "70bcb78c",
   "metadata": {},
   "outputs": [
    {
     "data": {
      "image/png": "[encoded data removed]",
      "text/plain": [
       "<Figure size 1200x500 with 2 Axes>"
      ]
     },
     "metadata": {},
     "output_type": "display_data"
    },
    {
     "name": "stdout",
     "output_type": "stream",
     "text": [
      "Accuracy score with all features: 0.9219173952366596\n",
      "Accuracy score with two features: 0.6629484473922219\n"
     ]
    }
   ],
   "source": [
    "import numpy as np\n",
    "import matplotlib.pyplot as plt\n",
    "from sklearn.linear_model import LogisticRegression\n",
    "from sklearn.model_selection import train_test_split\n",
    "from sklearn.metrics import accuracy_score\n",
    "\n",
    "# Assuming the dataset is named 'phishing_dataset.txt'\n",
    "header_list = ['UsingIP', 'LongURL', 'ShortURL', 'Symbol@', 'Redirecting//',\n",
    "               'PrefixSuffix-', 'SubDomains', 'HTTPS', 'DomainRegLen', 'Favicon',\n",
    "               'NonStdPort', 'HTTPSDomainURL', 'RequestURL', 'AnchorURL',\n",
    "               'LinksInScriptTags', 'ServerFormHandler', 'InfoEmail', 'AbnormalURL',\n",
    "               'WebsiteForwarding', 'StatusBarCust', 'DisableRightClick',\n",
    "               'UsingPopupWindow', 'IframeRedirection', 'AgeofDomain',\n",
    "               'DNSRecording', 'WebsiteTraffic', 'PageRank', 'GoogleIndex',\n",
    "               'LinksPointingToPage', 'StatsReport', 'class']\n",
    "\n",
    "# Load the dataset into a DataFrame\n",
    "# Adjust the file path accordingly\n",
    "df = pd.read_csv('/Users/yashaswipatki/Downloads/phishing.txt', header=None, names=header_list)\n",
    "\n",
    "# Select only the relevant features\n",
    "X_two_features = df[['PrefixSuffix-', 'LinksInScriptTags']]\n",
    "y = df['class']\n",
    "\n",
    "# Split the data into training and testing sets\n",
    "X_train_two, X_test_two, y_train_two, y_test_two = train_test_split(X_two_features, y, test_size=0.3, random_state=42)\n",
    "\n",
    "# Train the model with only two features\n",
    "model_two_features = LogisticRegression(C=100)\n",
    "model_two_features.fit(X_train_two, y_train_two)\n",
    "\n",
    "# Predict on the test data\n",
    "y_pred_two_features = model_two_features.predict(X_test_two)\n",
    "\n",
    "# Calculate accuracy for the model with two features\n",
    "accuracy_two_features = accuracy_score(y_test_two, y_pred_two_features)\n",
    "\n",
    "# Plot the decision boundary for both models\n",
    "plt.figure(figsize=(12, 5))\n",
    "\n",
    "# Decision boundary for the model using all features\n",
    "plt.subplot(1, 2, 1)\n",
    "plt.scatter(X_test.iloc[:, 0], X_test.iloc[:, 1], c=y_test, cmap=plt.cm.Paired)\n",
    "plt.title('Decision Boundary (All Features)')\n",
    "\n",
    "# Decision boundary for the model using only two features\n",
    "plt.subplot(1, 2, 2)\n",
    "plt.scatter(X_test_two.iloc[:, 0], X_test_two.iloc[:, 1], c=y_test_two, cmap=plt.cm.Paired)\n",
    "plt.title('Decision Boundary (Two Features)')\n",
    "\n",
    "plt.show()\n",
    "\n",
    "# Print accuracy comparison\n",
    "print(f\"Accuracy score with all features: {accuracy}\")\n",
    "print(f\"Accuracy score with two features: {accuracy_two_features}\")\n"
   ]
  },
  {
   "cell_type": "markdown",
   "id": "ddc12020",
   "metadata": {},
   "source": [
    "Conclusion\n",
    "\n",
    "In this project, we successfully built a binary classification model to detect phishing websites using logistic regression. We explored the impact of using only two features on model accuracy and visualized decision boundaries. The results provide insights into the effectiveness of different feature sets for phishing website detection."
   ]
  },
  {
   "cell_type": "code",
   "execution_count": null,
   "id": "0c47026f",
   "metadata": {},
   "outputs": [],
   "source": []
  },
  {
   "cell_type": "code",
   "execution_count": null,
   "id": "b14aebfd",
   "metadata": {},
   "outputs": [],
   "source": []
  }
 ],
 "metadata": {
  "kernelspec": {
   "display_name": "Python 3 (ipykernel)",
   "language": "python",
   "name": "python3"
  },
  "language_info": {
   "codemirror_mode": {
    "name": "ipython",
    "version": 3
   },
   "file_extension": ".py",
   "mimetype": "text/x-python",
   "name": "python",
   "nbconvert_exporter": "python",
   "pygments_lexer": "ipython3",
   "version": "3.11.4"
  }
 },
 "nbformat": 4,
 "nbformat_minor": 5
}
